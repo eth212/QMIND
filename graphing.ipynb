{
  "nbformat": 4,
  "nbformat_minor": 0,
  "metadata": {
    "colab": {
      "name": "graphing.ipynb",
      "provenance": [],
      "collapsed_sections": [],
      "include_colab_link": true
    },
    "kernelspec": {
      "name": "python3",
      "display_name": "Python 3"
    },
    "accelerator": "GPU"
  },
  "cells": [
    {
      "cell_type": "markdown",
      "metadata": {
        "id": "view-in-github",
        "colab_type": "text"
      },
      "source": [
        "<a href=\"https://colab.research.google.com/github/eth212/QMIND/blob/master/graphing.ipynb\" target=\"_parent\"><img src=\"https://colab.research.google.com/assets/colab-badge.svg\" alt=\"Open In Colab\"/></a>"
      ]
    },
    {
      "cell_type": "code",
      "metadata": {
        "id": "QUdxdNQXiobG",
        "colab_type": "code",
        "outputId": "6aa431d0-8c50-40bf-d7af-2a234a44a48e",
        "colab": {
          "resources": {
            "http://localhost:8080/nbextensions/google.colab/files.js": {
              "data": "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",
              "ok": true,
              "headers": [
                [
                  "content-type",
                  "application/javascript"
                ]
              ],
              "status": 200,
              "status_text": ""
            }
          },
          "base_uri": "https://localhost:8080/",
          "height": 74
        }
      },
      "source": [
        "from google.colab import files\n",
        "uploaded = files.upload()"
      ],
      "execution_count": 2,
      "outputs": [
        {
          "output_type": "display_data",
          "data": {
            "text/html": [
              "\n",
              "     <input type=\"file\" id=\"files-d9f0d9de-594e-4c89-a19e-3858724c12d1\" name=\"files[]\" multiple disabled />\n",
              "     <output id=\"result-d9f0d9de-594e-4c89-a19e-3858724c12d1\">\n",
              "      Upload widget is only available when the cell has been executed in the\n",
              "      current browser session. Please rerun this cell to enable.\n",
              "      </output>\n",
              "      <script src=\"/nbextensions/google.colab/files.js\"></script> "
            ],
            "text/plain": [
              "<IPython.core.display.HTML object>"
            ]
          },
          "metadata": {
            "tags": []
          }
        },
        {
          "output_type": "stream",
          "text": [
            "Saving colab.xlsx to colab.xlsx\n"
          ],
          "name": "stdout"
        }
      ]
    },
    {
      "cell_type": "code",
      "metadata": {
        "id": "j9E9_teoivkD",
        "colab_type": "code",
        "outputId": "b4b32363-25c4-429d-e598-3e39b9575850",
        "colab": {
          "base_uri": "https://localhost:8080/",
          "height": 62
        }
      },
      "source": [
        "import tensorflow\n",
        "import pandas as pd\n",
        "import numpy as np\n",
        "from collections import Counter\n",
        "import matplotlib\n",
        "from matplotlib import pyplot as plt\n",
        "#! pip install tensorflow-gpu==2.0.0 "
      ],
      "execution_count": 3,
      "outputs": [
        {
          "output_type": "display_data",
          "data": {
            "text/html": [
              "<p style=\"color: red;\">\n",
              "The default version of TensorFlow in Colab will soon switch to TensorFlow 2.x.<br>\n",
              "We recommend you <a href=\"https://www.tensorflow.org/guide/migrate\" target=\"_blank\">upgrade</a> now \n",
              "or ensure your notebook will continue to use TensorFlow 1.x via the <code>%tensorflow_version 1.x</code> magic:\n",
              "<a href=\"https://colab.research.google.com/notebooks/tensorflow_version.ipynb\" target=\"_blank\">more info</a>.</p>\n"
            ],
            "text/plain": [
              "<IPython.core.display.HTML object>"
            ]
          },
          "metadata": {
            "tags": []
          }
        }
      ]
    },
    {
      "cell_type": "code",
      "metadata": {
        "id": "NBuWoQBBN-o8",
        "colab_type": "code",
        "colab": {}
      },
      "source": [
        "def get_counts(series):\n",
        "  X = series.tolist()\n",
        "  count = Counter(np.array(X))\n",
        "  tuple_list = count.most_common()\n",
        "  return tuple_list"
      ],
      "execution_count": 0,
      "outputs": []
    },
    {
      "cell_type": "code",
      "metadata": {
        "id": "AE17U0Z4kVaz",
        "colab_type": "code",
        "colab": {}
      },
      "source": [
        "buffer = pd.read_excel(\"colab.xlsx\")\n",
        "df = pd.DataFrame(buffer)\n",
        "df"
      ],
      "execution_count": 0,
      "outputs": []
    },
    {
      "cell_type": "code",
      "metadata": {
        "id": "Jfj0e3zgozqN",
        "colab_type": "code",
        "outputId": "5d92c236-d4a9-456a-e591-f6c227dcff5c",
        "colab": {
          "base_uri": "https://localhost:8080/",
          "height": 34
        }
      },
      "source": [
        "#df = df.drop(columns = [ 'Datasource', 'SerialNumber', 'Unnamed: 0','TransactionType', 'Axles'  ])\n",
        "df[\"Salesprice\"] = df[df[\"Salesprice\"] > 1000][\"Salesprice\"]\n",
        "df[\"HP\"] = df[df[\"HP\"] > 0][\"HP\"]\n",
        "df[\"Salesprice\"] = df[df[\"Salesprice\"] < 300000][\"Salesprice\"]\n",
        "df[\"Year\"] = df[df[\"Year\"] > 2000][\"Year\"]\n",
        "df[\"Adjusted_Salesprice\"] = df[df[\"Adjusted_Salesprice\"] > 1646][\"Adjusted_Salesprice\"]\n",
        "df[\"Mileage\"] = pd.to_numeric(df[\"Mileage\"])\n",
        "df[\"Mileage\"] = df[df[\"Mileage\"] > 0][\"Mileage\"]\n",
        "df = df[~df['Mileage'].isnull()]\n",
        "df = df[~df['HP'].isnull()]\n",
        "df = df[~df['Spd'].isnull()]\n",
        "df = df[~df['Salesprice'].isnull()]\n",
        "df = df[~df['SaleDate'].isnull()]\n",
        "df = df[~df['Adjusted_Salesprice'].isnull()]\n",
        "\n",
        "#checking Nan Values\n",
        "df[\"Salesprice\"].isna().sum()"
      ],
      "execution_count": 99,
      "outputs": [
        {
          "output_type": "execute_result",
          "data": {
            "text/plain": [
              "0"
            ]
          },
          "metadata": {
            "tags": []
          },
          "execution_count": 99
        }
      ]
    },
    {
      "cell_type": "code",
      "metadata": {
        "id": "9jpInJkqQXWe",
        "colab_type": "code",
        "colab": {}
      },
      "source": [
        "#alternate df\n",
        "df_alt = pd.DataFrame()\n",
        "df_alt = df\n"
      ],
      "execution_count": 0,
      "outputs": []
    },
    {
      "cell_type": "code",
      "metadata": {
        "id": "nwxGEz2iStdI",
        "colab_type": "code",
        "colab": {}
      },
      "source": [
        "#switch back\n",
        "\n",
        "df = df_alt\n",
        "df.columns\n",
        "df"
      ],
      "execution_count": 0,
      "outputs": []
    },
    {
      "cell_type": "code",
      "metadata": {
        "id": "OsQjVtLRwoJ_",
        "colab_type": "code",
        "colab": {}
      },
      "source": [
        "model_list = get_counts(df[\"Model\"])\n",
        "num_models = 2\n",
        "list_of_models_to_use = model_list[1:num_models] #the number after 0 in  [0:20] dictates the number of models to use (popular first)\n",
        "models = []\n",
        "for i in range(len(list_of_models_to_use)):\n",
        "  models.append(list_of_models_to_use[i][0])\n",
        "df = df[df[\"Model\"].isin(models)]\n",
        "df"
      ],
      "execution_count": 0,
      "outputs": []
    },
    {
      "cell_type": "code",
      "metadata": {
        "id": "OAbZRzcmTHhQ",
        "colab_type": "code",
        "colab": {
          "base_uri": "https://localhost:8080/",
          "height": 47
        },
        "outputId": "66d3db6f-cc29-40c6-96b2-cb2eff7cd7ef"
      },
      "source": [
        "model_list = get_counts(df[\"Model\"])\n",
        "models = [\"CH613\"]\n",
        "df = df[df[\"Model\"].isin(models)]\n",
        "df"
      ],
      "execution_count": 96,
      "outputs": [
        {
          "output_type": "execute_result",
          "data": {
            "text/html": [
              "<div>\n",
              "<style scoped>\n",
              "    .dataframe tbody tr th:only-of-type {\n",
              "        vertical-align: middle;\n",
              "    }\n",
              "\n",
              "    .dataframe tbody tr th {\n",
              "        vertical-align: top;\n",
              "    }\n",
              "\n",
              "    .dataframe thead th {\n",
              "        text-align: right;\n",
              "    }\n",
              "</style>\n",
              "<table border=\"1\" class=\"dataframe\">\n",
              "  <thead>\n",
              "    <tr style=\"text-align: right;\">\n",
              "      <th></th>\n",
              "      <th>Classification</th>\n",
              "      <th>Year</th>\n",
              "      <th>Make</th>\n",
              "      <th>Model</th>\n",
              "      <th>Salesprice</th>\n",
              "      <th>SaleDate</th>\n",
              "      <th>Location</th>\n",
              "      <th>AuctionCompany</th>\n",
              "      <th>Mileage</th>\n",
              "      <th>Engine</th>\n",
              "      <th>HP</th>\n",
              "      <th>Suspension</th>\n",
              "      <th>Sleeper</th>\n",
              "      <th>Trans</th>\n",
              "      <th>Spd</th>\n",
              "      <th>mNotes</th>\n",
              "      <th>Adjusted_Salesprice</th>\n",
              "    </tr>\n",
              "  </thead>\n",
              "  <tbody>\n",
              "  </tbody>\n",
              "</table>\n",
              "</div>"
            ],
            "text/plain": [
              "Empty DataFrame\n",
              "Columns: [Classification, Year, Make, Model, Salesprice, SaleDate, Location, AuctionCompany, Mileage, Engine, HP, Suspension, Sleeper, Trans, Spd, mNotes, Adjusted_Salesprice]\n",
              "Index: []"
            ]
          },
          "metadata": {
            "tags": []
          },
          "execution_count": 96
        }
      ]
    },
    {
      "cell_type": "code",
      "metadata": {
        "id": "Duv2ZSYUG3b1",
        "colab_type": "code",
        "colab": {}
      },
      "source": [
        "#keeping a make consistent \n",
        "make_list = get_counts(df[\"Make\"])\n",
        "num_makes = 1\n",
        "list_of_makes_to_use = make_list[0:num_models] #the number after 0 in  [0:20] dictates the number of models to use (popular first)\n",
        "makes = []\n",
        "for i in range(num_makes):\n",
        "  makes.append(list_of_makes_to_use[i][0])\n",
        "df = df[df[\"Make\"].isin(makes)]\n",
        "df"
      ],
      "execution_count": 0,
      "outputs": []
    },
    {
      "cell_type": "code",
      "metadata": {
        "id": "lc1TtsriHhvp",
        "colab_type": "code",
        "colab": {}
      },
      "source": [
        "#keeping years within range\n",
        "years = [2006]\n",
        "df = df[df[\"Year\"].isin(years)]\n",
        "\n",
        "df"
      ],
      "execution_count": 0,
      "outputs": []
    },
    {
      "cell_type": "code",
      "metadata": {
        "id": "SmObFIeAm7D2",
        "colab_type": "code",
        "colab": {}
      },
      "source": [
        "#analysis\n",
        "import seaborn as sns\n",
        "from scipy.stats import norm\n",
        "from sklearn.preprocessing import StandardScaler\n",
        "from scipy import stats\n",
        "import warnings\n",
        "warnings.filterwarnings('ignore')\n",
        "%matplotlib inline"
      ],
      "execution_count": 0,
      "outputs": []
    },
    {
      "cell_type": "code",
      "metadata": {
        "id": "hYdJ7RR8m7G1",
        "colab_type": "code",
        "colab": {
          "base_uri": "https://localhost:8080/",
          "height": 168
        },
        "outputId": "bb49e6a6-01a3-4cbf-bd74-bf2fe167e77a"
      },
      "source": [
        "df[\"Adjusted_Salesprice\"].describe()"
      ],
      "execution_count": 82,
      "outputs": [
        {
          "output_type": "execute_result",
          "data": {
            "text/plain": [
              "count      393.000000\n",
              "mean     33195.904994\n",
              "std      12295.408897\n",
              "min       9340.764910\n",
              "25%      23302.271363\n",
              "50%      33422.204218\n",
              "75%      42206.841265\n",
              "max      78421.417026\n",
              "Name: Adjusted_Salesprice, dtype: float64"
            ]
          },
          "metadata": {
            "tags": []
          },
          "execution_count": 82
        }
      ]
    },
    {
      "cell_type": "code",
      "metadata": {
        "id": "D6d8ddGQm7J5",
        "colab_type": "code",
        "colab": {
          "base_uri": "https://localhost:8080/",
          "height": 168
        },
        "outputId": "18c8ce96-f782-46bd-fb6e-9f27ddd2694d"
      },
      "source": [
        "df[\"Mileage\"].describe()"
      ],
      "execution_count": 84,
      "outputs": [
        {
          "output_type": "execute_result",
          "data": {
            "text/plain": [
              "count    3.930000e+02\n",
              "mean     7.352970e+05\n",
              "std      1.879367e+05\n",
              "min      9.100000e+04\n",
              "25%      6.220000e+05\n",
              "50%      7.430000e+05\n",
              "75%      8.470000e+05\n",
              "max      1.280532e+06\n",
              "Name: Mileage, dtype: float64"
            ]
          },
          "metadata": {
            "tags": []
          },
          "execution_count": 84
        }
      ]
    },
    {
      "cell_type": "code",
      "metadata": {
        "id": "vy_WBnxpm7Vb",
        "colab_type": "code",
        "colab": {
          "base_uri": "https://localhost:8080/",
          "height": 297
        },
        "outputId": "518be046-d2ba-48a9-d489-59071ab49241"
      },
      "source": [
        "df = df[~df['Adjusted_Salesprice'].isnull()]\n",
        "sns.distplot(df[\"Adjusted_Salesprice\"])\n"
      ],
      "execution_count": 85,
      "outputs": [
        {
          "output_type": "execute_result",
          "data": {
            "text/plain": [
              "<matplotlib.axes._subplots.AxesSubplot at 0x7f85de12a400>"
            ]
          },
          "metadata": {
            "tags": []
          },
          "execution_count": 85
        },
        {
          "output_type": "display_data",
          "data": {
            "image/png": "[encoded data removed]",
            "text/plain": [
              "<Figure size 432x288 with 1 Axes>"
            ]
          },
          "metadata": {
            "tags": []
          }
        }
      ]
    },
    {
      "cell_type": "code",
      "metadata": {
        "id": "XrXwcaoEm7YJ",
        "colab_type": "code",
        "colab": {
          "base_uri": "https://localhost:8080/",
          "height": 296
        },
        "outputId": "89faca58-f858-432b-b8fe-cfcd4b1f3e38"
      },
      "source": [
        "df = df[~df['Salesprice'].isnull()]\n",
        "sns.distplot(df[\"Salesprice\"])"
      ],
      "execution_count": 86,
      "outputs": [
        {
          "output_type": "execute_result",
          "data": {
            "text/plain": [
              "<matplotlib.axes._subplots.AxesSubplot at 0x7f85de113048>"
            ]
          },
          "metadata": {
            "tags": []
          },
          "execution_count": 86
        },
        {
          "output_type": "display_data",
          "data": {
            "image/png": "[encoded data removed]",
            "text/plain": [
              "<Figure size 432x288 with 1 Axes>"
            ]
          },
          "metadata": {
            "tags": []
          }
        }
      ]
    },
    {
      "cell_type": "code",
      "metadata": {
        "id": "vTPG7fOJm7bC",
        "colab_type": "code",
        "colab": {
          "base_uri": "https://localhost:8080/",
          "height": 50
        },
        "outputId": "9345fd93-9f05-4c7c-9025-3a2f7048d11c"
      },
      "source": [
        "print(\"Skewness: %f\" % df['Salesprice'].skew())\n",
        "print(\"Kurtosis: %f\" % df['Salesprice'].kurt())"
      ],
      "execution_count": 87,
      "outputs": [
        {
          "output_type": "stream",
          "text": [
            "Skewness: 0.188000\n",
            "Kurtosis: -0.485789\n"
          ],
          "name": "stdout"
        }
      ]
    },
    {
      "cell_type": "code",
      "metadata": {
        "id": "0yqQ6Gjw1lGt",
        "colab_type": "code",
        "colab": {
          "base_uri": "https://localhost:8080/",
          "height": 296
        },
        "outputId": "5f647f63-cdda-4832-b1f3-bad7c3d01729"
      },
      "source": [
        "sns.distplot(df[\"Mileage\"])"
      ],
      "execution_count": 88,
      "outputs": [
        {
          "output_type": "execute_result",
          "data": {
            "text/plain": [
              "<matplotlib.axes._subplots.AxesSubplot at 0x7f85de2a7320>"
            ]
          },
          "metadata": {
            "tags": []
          },
          "execution_count": 88
        },
        {
          "output_type": "display_data",
          "data": {
            "image/png": "[encoded data removed]",
            "text/plain": [
              "<Figure size 432x288 with 1 Axes>"
            ]
          },
          "metadata": {
            "tags": []
          }
        }
      ]
    },
    {
      "cell_type": "code",
      "metadata": {
        "id": "yAFZGiYXm7d1",
        "colab_type": "code",
        "colab": {
          "base_uri": "https://localhost:8080/",
          "height": 283
        },
        "outputId": "dba21ed6-f0bc-4efb-ec2c-cb1be017b8ee"
      },
      "source": [
        "#scatter plot grlivarea/saleprice\n",
        "var = 'Mileage'\n",
        "data = pd.concat([df['Salesprice'], df[var]], axis=1)\n",
        "data.plot.scatter(x=var, y='Salesprice', ylim=(0,80000));"
      ],
      "execution_count": 105,
      "outputs": [
        {
          "output_type": "display_data",
          "data": {
            "image/png": "[encoded data removed]",
            "text/plain": [
              "<Figure size 432x288 with 1 Axes>"
            ]
          },
          "metadata": {
            "tags": []
          }
        }
      ]
    },
    {
      "cell_type": "code",
      "metadata": {
        "id": "HYRYWna6MtiQ",
        "colab_type": "code",
        "colab": {
          "base_uri": "https://localhost:8080/",
          "height": 168
        },
        "outputId": "bc81c646-3f6e-4a63-c92c-8cbd502c105c"
      },
      "source": [
        "df[\"Spd\"].describe()"
      ],
      "execution_count": 50,
      "outputs": [
        {
          "output_type": "execute_result",
          "data": {
            "text/plain": [
              "count    388.000000\n",
              "mean      10.373711\n",
              "std        1.002338\n",
              "min        9.000000\n",
              "25%       10.000000\n",
              "50%       10.000000\n",
              "75%       10.000000\n",
              "max       13.000000\n",
              "Name: Spd, dtype: float64"
            ]
          },
          "metadata": {
            "tags": []
          },
          "execution_count": 50
        }
      ]
    },
    {
      "cell_type": "code",
      "metadata": {
        "id": "B2zr1WtIIpM6",
        "colab_type": "code",
        "colab": {
          "base_uri": "https://localhost:8080/",
          "height": 296
        },
        "outputId": "d58aee26-f3fe-4a00-d87b-b9080c4d55bd"
      },
      "source": [
        "#manual\n",
        "sold = df[\"SaleDate\"].tolist()\n",
        "year_sold = [x.to_pydatetime() for x in sold]\n",
        "prices = df[\"Salesprice\"].tolist()\n",
        "plt.xlabel(\"Year Sold\")\n",
        "plt.ylabel(\"Sales Price\")\n",
        "plt.scatter(year_sold, prices, c='g')"
      ],
      "execution_count": 52,
      "outputs": [
        {
          "output_type": "execute_result",
          "data": {
            "text/plain": [
              "<matplotlib.collections.PathCollection at 0x7f85cef3e588>"
            ]
          },
          "metadata": {
            "tags": []
          },
          "execution_count": 52
        },
        {
          "output_type": "display_data",
          "data": {
            "image/png": "[encoded data removed]",
            "text/plain": [
              "<Figure size 432x288 with 1 Axes>"
            ]
          },
          "metadata": {
            "tags": []
          }
        }
      ]
    },
    {
      "cell_type": "code",
      "metadata": {
        "id": "Mqd6UGugMx38",
        "colab_type": "code",
        "colab": {
          "base_uri": "https://localhost:8080/",
          "height": 312
        },
        "outputId": "6cb21230-83cb-49d2-8c7e-cdec1f442961"
      },
      "source": [
        "x_big = []\n",
        "y_big = []\n",
        "x_sm = []\n",
        "y_sm = []\n",
        "for i in range(len(df)):\n",
        "  if df[\"HP\"].iloc[i] > 475:\n",
        "    x_big.append(df[\"SaleDate\"].iloc[i].to_pydatetime())\n",
        "    y_big.append(df[\"Salesprice\"].iloc[i])\n",
        "  else:\n",
        "    x_sm.append(df[\"SaleDate\"].iloc[i].to_pydatetime())\n",
        "    y_sm.append(df[\"Salesprice\"].iloc[i])\n",
        "plt.xlabel(\"Year Sold\")\n",
        "plt.ylabel(\"Sale Price\")\n",
        "plt.title(\"Split at mean\")\n",
        "plt.scatter(x_sm, y_sm, c=\"r\")\n",
        "plt.scatter(x_big, y_big, c=\"b\")\n",
        "#blue points have higher Speeds\n",
        "#reds dont"
      ],
      "execution_count": 53,
      "outputs": [
        {
          "output_type": "execute_result",
          "data": {
            "text/plain": [
              "<matplotlib.collections.PathCollection at 0x7f85e1b6b358>"
            ]
          },
          "metadata": {
            "tags": []
          },
          "execution_count": 53
        },
        {
          "output_type": "display_data",
          "data": {
            "image/png": "[encoded data removed]",
            "text/plain": [
              "<Figure size 432x288 with 1 Axes>"
            ]
          },
          "metadata": {
            "tags": []
          }
        }
      ]
    },
    {
      "cell_type": "code",
      "metadata": {
        "id": "6pDZRKTxWkCY",
        "colab_type": "code",
        "colab": {
          "base_uri": "https://localhost:8080/",
          "height": 959
        },
        "outputId": "0dadf798-dfce-407c-89d4-27f79d7c6646"
      },
      "source": [
        "df"
      ],
      "execution_count": 112,
      "outputs": [
        {
          "output_type": "execute_result",
          "data": {
            "text/html": [
              "<div>\n",
              "<style scoped>\n",
              "    .dataframe tbody tr th:only-of-type {\n",
              "        vertical-align: middle;\n",
              "    }\n",
              "\n",
              "    .dataframe tbody tr th {\n",
              "        vertical-align: top;\n",
              "    }\n",
              "\n",
              "    .dataframe thead th {\n",
              "        text-align: right;\n",
              "    }\n",
              "</style>\n",
              "<table border=\"1\" class=\"dataframe\">\n",
              "  <thead>\n",
              "    <tr style=\"text-align: right;\">\n",
              "      <th></th>\n",
              "      <th>Classification</th>\n",
              "      <th>Year</th>\n",
              "      <th>Make</th>\n",
              "      <th>Model</th>\n",
              "      <th>Salesprice</th>\n",
              "      <th>SaleDate</th>\n",
              "      <th>Location</th>\n",
              "      <th>AuctionCompany</th>\n",
              "      <th>Mileage</th>\n",
              "      <th>Engine</th>\n",
              "      <th>HP</th>\n",
              "      <th>Suspension</th>\n",
              "      <th>Sleeper</th>\n",
              "      <th>Trans</th>\n",
              "      <th>Spd</th>\n",
              "      <th>mNotes</th>\n",
              "      <th>Adjusted_Salesprice</th>\n",
              "    </tr>\n",
              "  </thead>\n",
              "  <tbody>\n",
              "    <tr>\n",
              "      <th>187</th>\n",
              "      <td>Conventional</td>\n",
              "      <td>2007.0</td>\n",
              "      <td>INTERNATIONAL</td>\n",
              "      <td>9400I EAGLE</td>\n",
              "      <td>45032.0</td>\n",
              "      <td>2012-12-20</td>\n",
              "      <td>CHARLOTTE NC</td>\n",
              "      <td>NaN</td>\n",
              "      <td>602000.0</td>\n",
              "      <td>Cummins ISX</td>\n",
              "      <td>400.0</td>\n",
              "      <td>Air Ride</td>\n",
              "      <td>51 Inch Hi-Rise Pro Sleeper</td>\n",
              "      <td>10 Speed Transmission</td>\n",
              "      <td>10.0</td>\n",
              "      <td>2007 INTERNATIONAL 9400i Eagle Conventional, 5...</td>\n",
              "      <td>50621.172485</td>\n",
              "    </tr>\n",
              "    <tr>\n",
              "      <th>190</th>\n",
              "      <td>Conventional</td>\n",
              "      <td>2007.0</td>\n",
              "      <td>INTERNATIONAL</td>\n",
              "      <td>9400I EAGLE</td>\n",
              "      <td>45032.0</td>\n",
              "      <td>2012-12-20</td>\n",
              "      <td>CHARLOTTE NC</td>\n",
              "      <td>NaN</td>\n",
              "      <td>530000.0</td>\n",
              "      <td>Cummins ISX</td>\n",
              "      <td>400.0</td>\n",
              "      <td>Air Ride</td>\n",
              "      <td>51 Inch Hi-Rise Pro Sleeper</td>\n",
              "      <td>10 Speed Transmission</td>\n",
              "      <td>10.0</td>\n",
              "      <td>2007 INTERNATIONAL 9400i Eagle Conventional, 5...</td>\n",
              "      <td>50621.172485</td>\n",
              "    </tr>\n",
              "    <tr>\n",
              "      <th>191</th>\n",
              "      <td>Conventional</td>\n",
              "      <td>2007.0</td>\n",
              "      <td>INTERNATIONAL</td>\n",
              "      <td>9400I EAGLE</td>\n",
              "      <td>45032.0</td>\n",
              "      <td>2012-12-20</td>\n",
              "      <td>CHARLOTTE NC</td>\n",
              "      <td>NaN</td>\n",
              "      <td>590000.0</td>\n",
              "      <td>Cummins ISX</td>\n",
              "      <td>400.0</td>\n",
              "      <td>Air Ride</td>\n",
              "      <td>51 Inch Hi-Rise Pro Sleeper</td>\n",
              "      <td>10 Speed Transmission</td>\n",
              "      <td>10.0</td>\n",
              "      <td>2007 INTERNATIONAL 9400i Eagle Conventional, 5...</td>\n",
              "      <td>50621.172485</td>\n",
              "    </tr>\n",
              "    <tr>\n",
              "      <th>298</th>\n",
              "      <td>Conventional</td>\n",
              "      <td>2004.0</td>\n",
              "      <td>INTERNATIONAL</td>\n",
              "      <td>9400I EAGLE</td>\n",
              "      <td>22532.0</td>\n",
              "      <td>2009-12-10</td>\n",
              "      <td>CHARLOTTE NC</td>\n",
              "      <td>NaN</td>\n",
              "      <td>645000.0</td>\n",
              "      <td>Cummins ISX</td>\n",
              "      <td>400.0</td>\n",
              "      <td>Air Ride</td>\n",
              "      <td>51 INCH HI-RISE PRO</td>\n",
              "      <td>10 Speed</td>\n",
              "      <td>10.0</td>\n",
              "      <td>2004 INTERNATIONAL Model 9400i Eagle Conventio...</td>\n",
              "      <td>26637.262845</td>\n",
              "    </tr>\n",
              "    <tr>\n",
              "      <th>299</th>\n",
              "      <td>Conventional</td>\n",
              "      <td>2004.0</td>\n",
              "      <td>INTERNATIONAL</td>\n",
              "      <td>9400I EAGLE</td>\n",
              "      <td>22532.0</td>\n",
              "      <td>2009-12-10</td>\n",
              "      <td>CHARLOTTE NC</td>\n",
              "      <td>NaN</td>\n",
              "      <td>662000.0</td>\n",
              "      <td>Cummins ISX</td>\n",
              "      <td>400.0</td>\n",
              "      <td>Air Ride</td>\n",
              "      <td>51 INCH HI-RISE PRO</td>\n",
              "      <td>10 Speed</td>\n",
              "      <td>10.0</td>\n",
              "      <td>2004 INTERNATIONAL Model 9400i Eagle Conventio...</td>\n",
              "      <td>26637.262845</td>\n",
              "    </tr>\n",
              "    <tr>\n",
              "      <th>...</th>\n",
              "      <td>...</td>\n",
              "      <td>...</td>\n",
              "      <td>...</td>\n",
              "      <td>...</td>\n",
              "      <td>...</td>\n",
              "      <td>...</td>\n",
              "      <td>...</td>\n",
              "      <td>...</td>\n",
              "      <td>...</td>\n",
              "      <td>...</td>\n",
              "      <td>...</td>\n",
              "      <td>...</td>\n",
              "      <td>...</td>\n",
              "      <td>...</td>\n",
              "      <td>...</td>\n",
              "      <td>...</td>\n",
              "      <td>...</td>\n",
              "    </tr>\n",
              "    <tr>\n",
              "      <th>147554</th>\n",
              "      <td>Conventional</td>\n",
              "      <td>2006.0</td>\n",
              "      <td>INTERNATIONAL</td>\n",
              "      <td>9400I EAGLE</td>\n",
              "      <td>49082.0</td>\n",
              "      <td>2017-02-16</td>\n",
              "      <td>BURGETTSTOWN PA</td>\n",
              "      <td>NaN</td>\n",
              "      <td>115000.0</td>\n",
              "      <td>Cummins ISX</td>\n",
              "      <td>400.0</td>\n",
              "      <td>Air Ride</td>\n",
              "      <td>51 Inch Hi-Rise Sleeper</td>\n",
              "      <td>10 Speed Transmission</td>\n",
              "      <td>10.0</td>\n",
              "      <td>2006 INTERNATIONAL 9400i Eagle Conventional, 5...</td>\n",
              "      <td>50759.900721</td>\n",
              "    </tr>\n",
              "    <tr>\n",
              "      <th>147890</th>\n",
              "      <td>Conventional</td>\n",
              "      <td>2007.0</td>\n",
              "      <td>INTERNATIONAL</td>\n",
              "      <td>9400I EAGLE</td>\n",
              "      <td>31532.0</td>\n",
              "      <td>2017-02-02</td>\n",
              "      <td>BRIGHTON CO</td>\n",
              "      <td>NaN</td>\n",
              "      <td>656000.0</td>\n",
              "      <td>Cummins ISX</td>\n",
              "      <td>400.0</td>\n",
              "      <td>Air Ride</td>\n",
              "      <td>51 Inch Hi-Rise Sleeper</td>\n",
              "      <td>10 Speed Transmission</td>\n",
              "      <td>10.0</td>\n",
              "      <td>2007 INTERNATIONAL 9400i Eagle Conventional, 5...</td>\n",
              "      <td>32609.942332</td>\n",
              "    </tr>\n",
              "    <tr>\n",
              "      <th>150579</th>\n",
              "      <td>Conventional</td>\n",
              "      <td>2007.0</td>\n",
              "      <td>INTERNATIONAL</td>\n",
              "      <td>9400I EAGLE</td>\n",
              "      <td>16682.0</td>\n",
              "      <td>2017-04-13</td>\n",
              "      <td>TUNICA MS</td>\n",
              "      <td>NaN</td>\n",
              "      <td>983000.0</td>\n",
              "      <td>Cummins ISX</td>\n",
              "      <td>400.0</td>\n",
              "      <td>Air Ride</td>\n",
              "      <td>51 Inch Hi-Rise Pro Sleeper</td>\n",
              "      <td>10 Speed Transmission</td>\n",
              "      <td>10.0</td>\n",
              "      <td>2007 INTERNATIONAL 9400i Eagle Conventional, 5...</td>\n",
              "      <td>17252.285234</td>\n",
              "    </tr>\n",
              "    <tr>\n",
              "      <th>150580</th>\n",
              "      <td>Conventional</td>\n",
              "      <td>2007.0</td>\n",
              "      <td>INTERNATIONAL</td>\n",
              "      <td>9400I EAGLE</td>\n",
              "      <td>15782.0</td>\n",
              "      <td>2017-04-13</td>\n",
              "      <td>TUNICA MS</td>\n",
              "      <td>NaN</td>\n",
              "      <td>854000.0</td>\n",
              "      <td>Cummins ISX</td>\n",
              "      <td>400.0</td>\n",
              "      <td>Air Ride</td>\n",
              "      <td>51 Inch Hi-Rise Pro Sleeper</td>\n",
              "      <td>10 Speed Transmission</td>\n",
              "      <td>10.0</td>\n",
              "      <td>2007 INTERNATIONAL 9400i Eagle Conventional, 5...</td>\n",
              "      <td>16321.518137</td>\n",
              "    </tr>\n",
              "    <tr>\n",
              "      <th>150582</th>\n",
              "      <td>Conventional</td>\n",
              "      <td>2007.0</td>\n",
              "      <td>INTERNATIONAL</td>\n",
              "      <td>9400I EAGLE</td>\n",
              "      <td>11732.0</td>\n",
              "      <td>2017-04-13</td>\n",
              "      <td>TUNICA MS</td>\n",
              "      <td>NaN</td>\n",
              "      <td>1075000.0</td>\n",
              "      <td>Cummins ISX</td>\n",
              "      <td>400.0</td>\n",
              "      <td>Air Ride</td>\n",
              "      <td>51 Inch Hi-Rise Pro Sleeper</td>\n",
              "      <td>10 Speed Transmission</td>\n",
              "      <td>10.0</td>\n",
              "      <td>2007 INTERNATIONAL 9400i Eagle Conventional, 5...</td>\n",
              "      <td>12133.066201</td>\n",
              "    </tr>\n",
              "  </tbody>\n",
              "</table>\n",
              "<p>2552 rows × 17 columns</p>\n",
              "</div>"
            ],
            "text/plain": [
              "       Classification  ...  Adjusted_Salesprice\n",
              "187      Conventional  ...         50621.172485\n",
              "190      Conventional  ...         50621.172485\n",
              "191      Conventional  ...         50621.172485\n",
              "298      Conventional  ...         26637.262845\n",
              "299      Conventional  ...         26637.262845\n",
              "...               ...  ...                  ...\n",
              "147554   Conventional  ...         50759.900721\n",
              "147890   Conventional  ...         32609.942332\n",
              "150579   Conventional  ...         17252.285234\n",
              "150580   Conventional  ...         16321.518137\n",
              "150582   Conventional  ...         12133.066201\n",
              "\n",
              "[2552 rows x 17 columns]"
            ]
          },
          "metadata": {
            "tags": []
          },
          "execution_count": 112
        }
      ]
    },
    {
      "cell_type": "code",
      "metadata": {
        "id": "o95RZq8Wm7nU",
        "colab_type": "code",
        "colab": {
          "base_uri": "https://localhost:8080/",
          "height": 265
        },
        "outputId": "dd66c821-98b2-4e15-8b4f-c0c82fce1806"
      },
      "source": [
        "from mpl_toolkits import mplot3d\n",
        "ax = plt.axes(projection='3d')\n",
        "Y = df[\"Salesprice\"].tolist()\n",
        "X = df[\"Year\"].tolist()\n",
        "Z = df[\"SaleDate\"].tolist()\n",
        "Z = [inst.year for inst in Z]\n",
        "ax.scatter(X,Y,Z)"
      ],
      "execution_count": 140,
      "outputs": [
        {
          "output_type": "execute_result",
          "data": {
            "text/plain": [
              "<mpl_toolkits.mplot3d.art3d.Path3DCollection at 0x7f85df1d4908>"
            ]
          },
          "metadata": {
            "tags": []
          },
          "execution_count": 140
        },
        {
          "output_type": "display_data",
          "data": {
            "image/png": "[encoded data removed]",
            "text/plain": [
              "<Figure size 432x288 with 1 Axes>"
            ]
          },
          "metadata": {
            "tags": []
          }
        }
      ]
    },
    {
      "cell_type": "code",
      "metadata": {
        "id": "JpaoYujWaM7A",
        "colab_type": "code",
        "colab": {
          "base_uri": "https://localhost:8080/",
          "height": 265
        },
        "outputId": "e5886768-3a33-48cd-93e7-be5b3277c495"
      },
      "source": [
        "#synthetic\n",
        "#Y is sales price\n",
        "\n",
        "x = df[\"SaleDate\"].tolist()\n",
        "x = [inst.year for inst in x]\n",
        "count = Counter(np.array(Z))\n",
        "tuple_list = count.most_common()\n",
        "#print(tuple_list)\n",
        "#2011\n",
        "new_x = []\n",
        "new_y = []\n",
        "new_z = []\n",
        "year_m = tuple_list[0][0]\n",
        "for i in range(len(Z)):\n",
        "  if(x[i] == year_m or x[i] == year_m + 1 or x[i] == year_m - 1):\n",
        "    new_x.append(df[\"SaleDate\"].iloc[i].dayofyear)\n",
        "    new_z.append(df[\"Salesprice\"].iloc[i])\n",
        "    new_y.append(df[\"Mileage\"].iloc[i])\n",
        "\n",
        "#plt.scatter(new_x, new_y, c=\"r\")\n",
        "title = \"Model \" + str(df[\"Model\"].iloc[0]) + \" In Years \" + str(year_m - 1) + \" to \" + str(year_m + 1)\n",
        "#plt.title(title)\n",
        "#plt.xlabel(\"Day of Year\")\n",
        "#plt.ylabel(\"Sales Price\")\n",
        "ax2 = plt.axes(projection='3d')\n",
        "ax2.set_autoscalez_on(True)\n",
        "ax2.scatter3D(new_x, new_y, new_z)"
      ],
      "execution_count": 187,
      "outputs": [
        {
          "output_type": "execute_result",
          "data": {
            "text/plain": [
              "<mpl_toolkits.mplot3d.art3d.Path3DCollection at 0x7f85deb1a748>"
            ]
          },
          "metadata": {
            "tags": []
          },
          "execution_count": 187
        },
        {
          "output_type": "display_data",
          "data": {
            "image/png": "[encoded data removed]",
            "text/plain": [
              "<Figure size 432x288 with 1 Axes>"
            ]
          },
          "metadata": {
            "tags": []
          }
        }
      ]
    },
    {
      "cell_type": "code",
      "metadata": {
        "id": "Epuq167ikZYS",
        "colab_type": "code",
        "colab": {}
      },
      "source": [
        "def one_hot_encode(series_original, df_destination):\n",
        "  new_df = pd.get_dummies(series_original)\n",
        "  df_destination = pd.concat([df_destination,new_df], axis=1)\n",
        "  return df_destination"
      ],
      "execution_count": 0,
      "outputs": []
    },
    {
      "cell_type": "code",
      "metadata": {
        "id": "XAubLV1wgG_y",
        "colab_type": "code",
        "colab": {}
      },
      "source": [
        "def get_data(df, list_of_cols):\n",
        "  data = []\n",
        "  for j in range(len(df)):\n",
        "    temp = []   \n",
        "    for i in range(len(list_of_cols)):\n",
        "      val = df[list_of_cols[i]].iloc[j]  \n",
        "      temp.append(val)\n",
        "    data.append(temp)\n",
        "  return data\n",
        "\n"
      ],
      "execution_count": 0,
      "outputs": []
    },
    {
      "cell_type": "code",
      "metadata": {
        "id": "ZHPDfYmyf7sR",
        "colab_type": "code",
        "colab": {}
      },
      "source": [
        "def seperate(y_index, data_set):\n",
        "  X = []\n",
        "  Y = []\n",
        "  for i in range(len(data_set)):\n",
        "    cols = len(data_set[i])\n",
        "    Y.append(data_set[i][y_index])\n",
        "    X.append(data_set[i][(y_index + 1):cols])\n",
        "  return Y,X\n",
        "\n"
      ],
      "execution_count": 0,
      "outputs": []
    },
    {
      "cell_type": "code",
      "metadata": {
        "colab_type": "code",
        "id": "eumJV21ZhRpK",
        "colab": {}
      },
      "source": [
        "#analysis\n",
        "df.corr()\n",
        "df"
      ],
      "execution_count": 0,
      "outputs": []
    },
    {
      "cell_type": "code",
      "metadata": {
        "id": "ap1GVG84aSNa",
        "colab_type": "code",
        "colab": {}
      },
      "source": [
        "#dropping years under 1990\n",
        "def drop_y(df):\n",
        "  anymore = True\n",
        "  indices = []\n",
        "  while(anymore == True):\n",
        "    index = df[\"Year\"].idxmin()\n",
        "    value = df[\"Year\"].iloc[index]\n",
        "    if(value > 1990):\n",
        "      anymore = False\n",
        "      break\n",
        "    else:\n",
        "      indices.append(index)\n",
        "      df = df.drop(index)\n",
        "  return \n",
        "    "
      ],
      "execution_count": 0,
      "outputs": []
    },
    {
      "cell_type": "code",
      "metadata": {
        "id": "SdrFs20ohDin",
        "colab_type": "code",
        "outputId": "ad3678bf-a307-4fc2-9257-f2e379ec9f67",
        "colab": {
          "base_uri": "https://localhost:8080/",
          "height": 218
        }
      },
      "source": [
        " df[\"Year\"] = df[df[\"Year\"] > 1990][\"Year\"]\n",
        "df[\"Year\"]"
      ],
      "execution_count": 0,
      "outputs": [
        {
          "output_type": "execute_result",
          "data": {
            "text/plain": [
              "0         NaN\n",
              "1         NaN\n",
              "2         NaN\n",
              "3         NaN\n",
              "4         NaN\n",
              "         ... \n",
              "154838    NaN\n",
              "154839    NaN\n",
              "154840    NaN\n",
              "154841    NaN\n",
              "154842    NaN\n",
              "Name: Year, Length: 154843, dtype: object"
            ]
          },
          "metadata": {
            "tags": []
          },
          "execution_count": 112
        }
      ]
    },
    {
      "cell_type": "code",
      "metadata": {
        "id": "rJkDEeLpiI9k",
        "colab_type": "code",
        "colab": {}
      },
      "source": [
        "df[\"Year\"].iloc[0] > 1990\n",
        "df[\"Year\"] = df[df[\"Year\"] > 1990][\"Year\"]\n",
        "df[\"HP\"] = df[df[\"HP\"] < 3000][\"HP\"]\n"
      ],
      "execution_count": 0,
      "outputs": []
    },
    {
      "cell_type": "code",
      "metadata": {
        "id": "JC6ryb_nkLFm",
        "colab_type": "code",
        "outputId": "f3ac05e6-8ca0-40cb-8f53-f9aff48d4c5e",
        "colab": {
          "base_uri": "https://localhost:8080/",
          "height": 67
        }
      },
      "source": [
        "df.dropna()"
      ],
      "execution_count": 0,
      "outputs": [
        {
          "output_type": "execute_result",
          "data": {
            "text/html": [
              "<div>\n",
              "<style scoped>\n",
              "    .dataframe tbody tr th:only-of-type {\n",
              "        vertical-align: middle;\n",
              "    }\n",
              "\n",
              "    .dataframe tbody tr th {\n",
              "        vertical-align: top;\n",
              "    }\n",
              "\n",
              "    .dataframe thead th {\n",
              "        text-align: right;\n",
              "    }\n",
              "</style>\n",
              "<table border=\"1\" class=\"dataframe\">\n",
              "  <thead>\n",
              "    <tr style=\"text-align: right;\">\n",
              "      <th></th>\n",
              "      <th>Classification</th>\n",
              "      <th>Datasource</th>\n",
              "      <th>SerialNumber</th>\n",
              "      <th>Year</th>\n",
              "      <th>Make</th>\n",
              "      <th>Model</th>\n",
              "      <th>Salesprice</th>\n",
              "      <th>SaleDate</th>\n",
              "      <th>Location</th>\n",
              "      <th>AuctionCompany</th>\n",
              "      <th>Mileage</th>\n",
              "      <th>Engine</th>\n",
              "      <th>HP</th>\n",
              "      <th>Suspension</th>\n",
              "      <th>Sleeper</th>\n",
              "      <th>Trans</th>\n",
              "      <th>Spd</th>\n",
              "      <th>Axles</th>\n",
              "      <th>TransactionType</th>\n",
              "      <th>mNotes</th>\n",
              "    </tr>\n",
              "  </thead>\n",
              "  <tbody>\n",
              "  </tbody>\n",
              "</table>\n",
              "</div>"
            ],
            "text/plain": [
              "Empty DataFrame\n",
              "Columns: [Classification, Datasource, SerialNumber, Year, Make, Model, Salesprice, SaleDate, Location, AuctionCompany, Mileage, Engine, HP, Suspension, Sleeper, Trans, Spd, Axles, TransactionType, mNotes]\n",
              "Index: []"
            ]
          },
          "metadata": {
            "tags": []
          },
          "execution_count": 130
        }
      ]
    },
    {
      "cell_type": "code",
      "metadata": {
        "id": "RaKIThPbdl-s",
        "colab_type": "code",
        "outputId": "041eb346-f9d8-40e8-a06c-231e49d6886c",
        "colab": {
          "base_uri": "https://localhost:8080/",
          "height": 218
        }
      },
      "source": [
        "df[\"HP\"]"
      ],
      "execution_count": 0,
      "outputs": [
        {
          "output_type": "execute_result",
          "data": {
            "text/plain": [
              "0           NaN\n",
              "1           NaN\n",
              "2         550.0\n",
              "3           NaN\n",
              "4         500.0\n",
              "          ...  \n",
              "154838    300.0\n",
              "154839    300.0\n",
              "154840    300.0\n",
              "154841    300.0\n",
              "154842    300.0\n",
              "Name: HP, Length: 154843, dtype: float64"
            ]
          },
          "metadata": {
            "tags": []
          },
          "execution_count": 125
        }
      ]
    },
    {
      "cell_type": "code",
      "metadata": {
        "id": "fp-gDk2pRXhh",
        "colab_type": "code",
        "outputId": "41871e10-2770-48b0-8347-efffdc057c42",
        "colab": {
          "base_uri": "https://localhost:8080/",
          "height": 467
        }
      },
      "source": [
        "def graph_sp_time(model_number=0, engine_number=1, year_number=0, num_locations = 3):\n",
        "  df = df_alt\n",
        "  df = df.drop( columns = ['Classification', 'Datasource', 'SerialNumber', 'Make', 'AuctionCompany', 'Mileage','HP', 'Suspension', 'Sleeper', 'Trans', 'Spd', 'Axles','TransactionType', 'mNotes'])\n",
        "  df = df.dropna()\n",
        "  model_list = get_counts(df[\"Model\"])\n",
        "  print(\"model is : \",model_list[model_number][0], \"\\n\")\n",
        "\n",
        "  #refining the models\n",
        "  unpopulated_cols2 = []\n",
        "  garbage2 = model_list[model_number]\n",
        "  for i in range(len(garbage2)):\n",
        "    unpopulated_cols2.append(garbage2[i])\n",
        "  df = df[df[\"Model\"].isin(unpopulated_cols2)]\n",
        "  \n",
        "  #getting rid of not relevent data\n",
        "  engine_list = get_counts(df[\"Engine\"])\n",
        "  garbage = []\n",
        "  garbage = engine_list[engine_number]\n",
        "  print(\"engine is : \", engine_list[0][0], \"\\n\")\n",
        "  #converting list of tuples into list\n",
        "  unpopulated_cols = []\n",
        "  for k in range(len(garbage)):\n",
        "    unpopulated_cols.append(garbage[k])\n",
        "  df = df[df[\"Engine\"].isin(unpopulated_cols)]\n",
        "\n",
        "  #refining the years\n",
        "  year_list = get_counts(df[\"Year\"])\n",
        "  unpopulated_cols3 = []\n",
        "  garbage3 = year_list[year_number]\n",
        "  print(\"vehicle made in : \", year_list[0][0], \"\\n\")\n",
        "  for i in range(len(garbage3)):\n",
        "    unpopulated_cols3.append(garbage3[i])\n",
        "    df = df[df[\"Year\"].isin(unpopulated_cols3)]\n",
        "  \n",
        "  #location\n",
        "  location_list = get_counts(df[\"Location\"])\n",
        "  unpopulated_cols4 = []\n",
        "  garbage4 = location_list[0:num_locations]\n",
        "  print(\"locations :  \", garbage4, \"\\n\")\n",
        "  for i in range(num_locations):\n",
        "    unpopulated_cols4.append(garbage4[i][0])\n",
        "  df = df[df[\"Location\"].isin(unpopulated_cols4)]\n",
        "  df = one_hot_encode(df[\"Location\"],df)\n",
        "  \n",
        "  #refining dataframe\n",
        "  df = df.drop(columns = [\"Year\", \"Engine\", \"Model\"])\n",
        "  \n",
        "  #converting to list\n",
        "  data_set = get_data(df, list(df.columns))\n",
        "  print(\"collected data\")\n",
        "\n",
        "  #seperating the data\n",
        "  Y, X = seperate(0,data_set)\n",
        "  print(\"seperated data\")\n",
        "  \n",
        "  #pregraphing\n",
        "  list_of_datetimes1 = []\n",
        "  y1 = []\n",
        "  list_of_datetimes2 = []\n",
        "  y2 = []\n",
        "  list_of_datetimes3 = []\n",
        "  y3 = []\n",
        "  for i in range(len(X)):\n",
        "    if df[df.columns[3]].iloc[i] == 1:\n",
        "      list_of_datetimes1.append(df[\"SaleDate\"].iloc[i].date())\n",
        "      y1.append(Y[i])\n",
        "    elif df[df.columns[4]].iloc[i] == 1:\n",
        "      list_of_datetimes2.append(df[\"SaleDate\"].iloc[i].date())\n",
        "      y2.append(Y[i])\n",
        "    elif df[df.columns[5]].iloc[i] == 1:\n",
        "      list_of_datetimes3.append(df[\"SaleDate\"].iloc[i].date())\n",
        "      y3.append(Y[i])\n",
        "    \n",
        "  dates1 = matplotlib.dates.date2num(list_of_datetimes1)\n",
        "  dates2 = matplotlib.dates.date2num(list_of_datetimes2)\n",
        "  dates3 = matplotlib.dates.date2num(list_of_datetimes3)\n",
        "  plt.ylabel(\"Sales Price\")\n",
        "  plt.xlabel(\"time\")\n",
        "  plt.plot_date(dates1, y1, c=\"r\")\n",
        "  plt.plot_date(dates2, y2, c=\"b\")\n",
        "  plt.plot_date(dates3,y3, c=\"g\")\n",
        "  return 0\n",
        "  \n",
        "\n",
        "\n",
        "graph_sp_time(model_number=2)"
      ],
      "execution_count": 0,
      "outputs": [
        {
          "output_type": "stream",
          "text": [
            "model is :  CH613 \n",
            "\n",
            "engine is :  E7-350 \n",
            "\n",
            "vehicle made in :  2001.0 \n",
            "\n",
            "locations :   [('FORT WORTH, TX', 36), ('JACKSON, MS', 12), ('HOUSTON, TX', 11)] \n",
            "\n",
            "collected data\n",
            "seperated data\n"
          ],
          "name": "stdout"
        },
        {
          "output_type": "execute_result",
          "data": {
            "text/plain": [
              "0"
            ]
          },
          "metadata": {
            "tags": []
          },
          "execution_count": 147
        },
        {
          "output_type": "display_data",
          "data": {
            "image/png": "[encoded data removed]",
            "text/plain": [
              "<Figure size 432x288 with 1 Axes>"
            ]
          },
          "metadata": {
            "tags": []
          }
        }
      ]
    },
    {
      "cell_type": "code",
      "metadata": {
        "id": "-B-Y6a5haX5m",
        "colab_type": "code",
        "outputId": "db83c455-2926-49a4-97ad-a577e0070387",
        "colab": {
          "base_uri": "https://localhost:8080/",
          "height": 34
        }
      },
      "source": [
        "'''note:\n",
        "I could make a function make many different graphs and come up with a trend line for each\n",
        "return the trend line and compare the slope of all of them to find the actual pattern\n",
        "heads up: the first points are very important (hype factor) would need to consider"
      ],
      "execution_count": 0,
      "outputs": [
        {
          "output_type": "execute_result",
          "data": {
            "text/plain": [
              "672"
            ]
          },
          "metadata": {
            "tags": []
          },
          "execution_count": 97
        }
      ]
    },
    {
      "cell_type": "code",
      "metadata": {
        "id": "ey_f5mvtZLjG",
        "colab_type": "code",
        "outputId": "4996855d-2a7a-4c88-ef50-043ecada8ed2",
        "colab": {
          "base_uri": "https://localhost:8080/",
          "height": 589
        }
      },
      "source": [
        "list_of_datetimes = []\n",
        "for i in range(len(frame)):\n",
        "   list_of_datetimes.append(frame[\"SaleDate\"].iloc[i].date())\n",
        "dates = matplotlib.dates.date2num(list_of_datetimes)\n",
        "plt.plot_date(dates, y_var, c=\"r\")"
      ],
      "execution_count": 0,
      "outputs": [
        {
          "output_type": "error",
          "ename": "ValueError",
          "evalue": "ignored",
          "traceback": [
            "\u001b[0;31m---------------------------------------------------------------------------\u001b[0m",
            "\u001b[0;31mValueError\u001b[0m                                Traceback (most recent call last)",
            "\u001b[0;32m<ipython-input-85-e473c7beeb7b>\u001b[0m in \u001b[0;36m<module>\u001b[0;34m()\u001b[0m\n\u001b[1;32m      3\u001b[0m    \u001b[0mlist_of_datetimes\u001b[0m\u001b[0;34m.\u001b[0m\u001b[0mappend\u001b[0m\u001b[0;34m(\u001b[0m\u001b[0mframe\u001b[0m\u001b[0;34m[\u001b[0m\u001b[0;34m\"SaleDate\"\u001b[0m\u001b[0;34m]\u001b[0m\u001b[0;34m.\u001b[0m\u001b[0miloc\u001b[0m\u001b[0;34m[\u001b[0m\u001b[0mi\u001b[0m\u001b[0;34m]\u001b[0m\u001b[0;34m.\u001b[0m\u001b[0mdate\u001b[0m\u001b[0;34m(\u001b[0m\u001b[0;34m)\u001b[0m\u001b[0;34m)\u001b[0m\u001b[0;34m\u001b[0m\u001b[0;34m\u001b[0m\u001b[0m\n\u001b[1;32m      4\u001b[0m \u001b[0mdates\u001b[0m \u001b[0;34m=\u001b[0m \u001b[0mmatplotlib\u001b[0m\u001b[0;34m.\u001b[0m\u001b[0mdates\u001b[0m\u001b[0;34m.\u001b[0m\u001b[0mdate2num\u001b[0m\u001b[0;34m(\u001b[0m\u001b[0mlist_of_datetimes\u001b[0m\u001b[0;34m)\u001b[0m\u001b[0;34m\u001b[0m\u001b[0;34m\u001b[0m\u001b[0m\n\u001b[0;32m----> 5\u001b[0;31m \u001b[0mplt\u001b[0m\u001b[0;34m.\u001b[0m\u001b[0mplot_date\u001b[0m\u001b[0;34m(\u001b[0m\u001b[0mdates\u001b[0m\u001b[0;34m,\u001b[0m \u001b[0my_var\u001b[0m\u001b[0;34m,\u001b[0m \u001b[0mc\u001b[0m\u001b[0;34m=\u001b[0m\u001b[0;34m\"r\"\u001b[0m\u001b[0;34m)\u001b[0m\u001b[0;34m\u001b[0m\u001b[0;34m\u001b[0m\u001b[0m\n\u001b[0m",
            "\u001b[0;32m/usr/local/lib/python3.6/dist-packages/matplotlib/pyplot.py\u001b[0m in \u001b[0;36mplot_date\u001b[0;34m(x, y, fmt, tz, xdate, ydate, data, **kwargs)\u001b[0m\n\u001b[1;32m   2803\u001b[0m     return gca().plot_date(\n\u001b[1;32m   2804\u001b[0m         x, y, fmt=fmt, tz=tz, xdate=xdate, ydate=ydate, **({\"data\":\n\u001b[0;32m-> 2805\u001b[0;31m         data} if data is not None else {}), **kwargs)\n\u001b[0m\u001b[1;32m   2806\u001b[0m \u001b[0;34m\u001b[0m\u001b[0m\n\u001b[1;32m   2807\u001b[0m \u001b[0;34m\u001b[0m\u001b[0m\n",
            "\u001b[0;32m/usr/local/lib/python3.6/dist-packages/matplotlib/__init__.py\u001b[0m in \u001b[0;36minner\u001b[0;34m(ax, data, *args, **kwargs)\u001b[0m\n\u001b[1;32m   1599\u001b[0m     \u001b[0;32mdef\u001b[0m \u001b[0minner\u001b[0m\u001b[0;34m(\u001b[0m\u001b[0max\u001b[0m\u001b[0;34m,\u001b[0m \u001b[0;34m*\u001b[0m\u001b[0margs\u001b[0m\u001b[0;34m,\u001b[0m \u001b[0mdata\u001b[0m\u001b[0;34m=\u001b[0m\u001b[0;32mNone\u001b[0m\u001b[0;34m,\u001b[0m \u001b[0;34m**\u001b[0m\u001b[0mkwargs\u001b[0m\u001b[0;34m)\u001b[0m\u001b[0;34m:\u001b[0m\u001b[0;34m\u001b[0m\u001b[0;34m\u001b[0m\u001b[0m\n\u001b[1;32m   1600\u001b[0m         \u001b[0;32mif\u001b[0m \u001b[0mdata\u001b[0m \u001b[0;32mis\u001b[0m \u001b[0;32mNone\u001b[0m\u001b[0;34m:\u001b[0m\u001b[0;34m\u001b[0m\u001b[0;34m\u001b[0m\u001b[0m\n\u001b[0;32m-> 1601\u001b[0;31m             \u001b[0;32mreturn\u001b[0m \u001b[0mfunc\u001b[0m\u001b[0;34m(\u001b[0m\u001b[0max\u001b[0m\u001b[0;34m,\u001b[0m \u001b[0;34m*\u001b[0m\u001b[0mmap\u001b[0m\u001b[0;34m(\u001b[0m\u001b[0msanitize_sequence\u001b[0m\u001b[0;34m,\u001b[0m \u001b[0margs\u001b[0m\u001b[0;34m)\u001b[0m\u001b[0;34m,\u001b[0m \u001b[0;34m**\u001b[0m\u001b[0mkwargs\u001b[0m\u001b[0;34m)\u001b[0m\u001b[0;34m\u001b[0m\u001b[0;34m\u001b[0m\u001b[0m\n\u001b[0m\u001b[1;32m   1602\u001b[0m \u001b[0;34m\u001b[0m\u001b[0m\n\u001b[1;32m   1603\u001b[0m         \u001b[0mbound\u001b[0m \u001b[0;34m=\u001b[0m \u001b[0mnew_sig\u001b[0m\u001b[0;34m.\u001b[0m\u001b[0mbind\u001b[0m\u001b[0;34m(\u001b[0m\u001b[0max\u001b[0m\u001b[0;34m,\u001b[0m \u001b[0;34m*\u001b[0m\u001b[0margs\u001b[0m\u001b[0;34m,\u001b[0m \u001b[0;34m**\u001b[0m\u001b[0mkwargs\u001b[0m\u001b[0;34m)\u001b[0m\u001b[0;34m\u001b[0m\u001b[0;34m\u001b[0m\u001b[0m\n",
            "\u001b[0;32m/usr/local/lib/python3.6/dist-packages/matplotlib/axes/_axes.py\u001b[0m in \u001b[0;36mplot_date\u001b[0;34m(self, x, y, fmt, tz, xdate, ydate, **kwargs)\u001b[0m\n\u001b[1;32m   1741\u001b[0m             \u001b[0mself\u001b[0m\u001b[0;34m.\u001b[0m\u001b[0myaxis_date\u001b[0m\u001b[0;34m(\u001b[0m\u001b[0mtz\u001b[0m\u001b[0;34m)\u001b[0m\u001b[0;34m\u001b[0m\u001b[0;34m\u001b[0m\u001b[0m\n\u001b[1;32m   1742\u001b[0m \u001b[0;34m\u001b[0m\u001b[0m\n\u001b[0;32m-> 1743\u001b[0;31m         \u001b[0mret\u001b[0m \u001b[0;34m=\u001b[0m \u001b[0mself\u001b[0m\u001b[0;34m.\u001b[0m\u001b[0mplot\u001b[0m\u001b[0;34m(\u001b[0m\u001b[0mx\u001b[0m\u001b[0;34m,\u001b[0m \u001b[0my\u001b[0m\u001b[0;34m,\u001b[0m \u001b[0mfmt\u001b[0m\u001b[0;34m,\u001b[0m \u001b[0;34m**\u001b[0m\u001b[0mkwargs\u001b[0m\u001b[0;34m)\u001b[0m\u001b[0;34m\u001b[0m\u001b[0;34m\u001b[0m\u001b[0m\n\u001b[0m\u001b[1;32m   1744\u001b[0m \u001b[0;34m\u001b[0m\u001b[0m\n\u001b[1;32m   1745\u001b[0m         \u001b[0mself\u001b[0m\u001b[0;34m.\u001b[0m\u001b[0mautoscale_view\u001b[0m\u001b[0;34m(\u001b[0m\u001b[0;34m)\u001b[0m\u001b[0;34m\u001b[0m\u001b[0;34m\u001b[0m\u001b[0m\n",
            "\u001b[0;32m/usr/local/lib/python3.6/dist-packages/matplotlib/axes/_axes.py\u001b[0m in \u001b[0;36mplot\u001b[0;34m(self, scalex, scaley, data, *args, **kwargs)\u001b[0m\n\u001b[1;32m   1664\u001b[0m         \"\"\"\n\u001b[1;32m   1665\u001b[0m         \u001b[0mkwargs\u001b[0m \u001b[0;34m=\u001b[0m \u001b[0mcbook\u001b[0m\u001b[0;34m.\u001b[0m\u001b[0mnormalize_kwargs\u001b[0m\u001b[0;34m(\u001b[0m\u001b[0mkwargs\u001b[0m\u001b[0;34m,\u001b[0m \u001b[0mmlines\u001b[0m\u001b[0;34m.\u001b[0m\u001b[0mLine2D\u001b[0m\u001b[0;34m.\u001b[0m\u001b[0m_alias_map\u001b[0m\u001b[0;34m)\u001b[0m\u001b[0;34m\u001b[0m\u001b[0;34m\u001b[0m\u001b[0m\n\u001b[0;32m-> 1666\u001b[0;31m         \u001b[0mlines\u001b[0m \u001b[0;34m=\u001b[0m \u001b[0;34m[\u001b[0m\u001b[0;34m*\u001b[0m\u001b[0mself\u001b[0m\u001b[0;34m.\u001b[0m\u001b[0m_get_lines\u001b[0m\u001b[0;34m(\u001b[0m\u001b[0;34m*\u001b[0m\u001b[0margs\u001b[0m\u001b[0;34m,\u001b[0m \u001b[0mdata\u001b[0m\u001b[0;34m=\u001b[0m\u001b[0mdata\u001b[0m\u001b[0;34m,\u001b[0m \u001b[0;34m**\u001b[0m\u001b[0mkwargs\u001b[0m\u001b[0;34m)\u001b[0m\u001b[0;34m]\u001b[0m\u001b[0;34m\u001b[0m\u001b[0;34m\u001b[0m\u001b[0m\n\u001b[0m\u001b[1;32m   1667\u001b[0m         \u001b[0;32mfor\u001b[0m \u001b[0mline\u001b[0m \u001b[0;32min\u001b[0m \u001b[0mlines\u001b[0m\u001b[0;34m:\u001b[0m\u001b[0;34m\u001b[0m\u001b[0;34m\u001b[0m\u001b[0m\n\u001b[1;32m   1668\u001b[0m             \u001b[0mself\u001b[0m\u001b[0;34m.\u001b[0m\u001b[0madd_line\u001b[0m\u001b[0;34m(\u001b[0m\u001b[0mline\u001b[0m\u001b[0;34m)\u001b[0m\u001b[0;34m\u001b[0m\u001b[0;34m\u001b[0m\u001b[0m\n",
            "\u001b[0;32m/usr/local/lib/python3.6/dist-packages/matplotlib/axes/_base.py\u001b[0m in \u001b[0;36m__call__\u001b[0;34m(self, *args, **kwargs)\u001b[0m\n\u001b[1;32m    223\u001b[0m                 \u001b[0mthis\u001b[0m \u001b[0;34m+=\u001b[0m \u001b[0margs\u001b[0m\u001b[0;34m[\u001b[0m\u001b[0;36m0\u001b[0m\u001b[0;34m]\u001b[0m\u001b[0;34m,\u001b[0m\u001b[0;34m\u001b[0m\u001b[0;34m\u001b[0m\u001b[0m\n\u001b[1;32m    224\u001b[0m                 \u001b[0margs\u001b[0m \u001b[0;34m=\u001b[0m \u001b[0margs\u001b[0m\u001b[0;34m[\u001b[0m\u001b[0;36m1\u001b[0m\u001b[0;34m:\u001b[0m\u001b[0;34m]\u001b[0m\u001b[0;34m\u001b[0m\u001b[0;34m\u001b[0m\u001b[0m\n\u001b[0;32m--> 225\u001b[0;31m             \u001b[0;32myield\u001b[0m \u001b[0;32mfrom\u001b[0m \u001b[0mself\u001b[0m\u001b[0;34m.\u001b[0m\u001b[0m_plot_args\u001b[0m\u001b[0;34m(\u001b[0m\u001b[0mthis\u001b[0m\u001b[0;34m,\u001b[0m \u001b[0mkwargs\u001b[0m\u001b[0;34m)\u001b[0m\u001b[0;34m\u001b[0m\u001b[0;34m\u001b[0m\u001b[0m\n\u001b[0m\u001b[1;32m    226\u001b[0m \u001b[0;34m\u001b[0m\u001b[0m\n\u001b[1;32m    227\u001b[0m     \u001b[0;32mdef\u001b[0m \u001b[0mget_next_color\u001b[0m\u001b[0;34m(\u001b[0m\u001b[0mself\u001b[0m\u001b[0;34m)\u001b[0m\u001b[0;34m:\u001b[0m\u001b[0;34m\u001b[0m\u001b[0;34m\u001b[0m\u001b[0m\n",
            "\u001b[0;32m/usr/local/lib/python3.6/dist-packages/matplotlib/axes/_base.py\u001b[0m in \u001b[0;36m_plot_args\u001b[0;34m(self, tup, kwargs)\u001b[0m\n\u001b[1;32m    389\u001b[0m             \u001b[0mx\u001b[0m\u001b[0;34m,\u001b[0m \u001b[0my\u001b[0m \u001b[0;34m=\u001b[0m \u001b[0mindex_of\u001b[0m\u001b[0;34m(\u001b[0m\u001b[0mtup\u001b[0m\u001b[0;34m[\u001b[0m\u001b[0;34m-\u001b[0m\u001b[0;36m1\u001b[0m\u001b[0;34m]\u001b[0m\u001b[0;34m)\u001b[0m\u001b[0;34m\u001b[0m\u001b[0;34m\u001b[0m\u001b[0m\n\u001b[1;32m    390\u001b[0m \u001b[0;34m\u001b[0m\u001b[0m\n\u001b[0;32m--> 391\u001b[0;31m         \u001b[0mx\u001b[0m\u001b[0;34m,\u001b[0m \u001b[0my\u001b[0m \u001b[0;34m=\u001b[0m \u001b[0mself\u001b[0m\u001b[0;34m.\u001b[0m\u001b[0m_xy_from_xy\u001b[0m\u001b[0;34m(\u001b[0m\u001b[0mx\u001b[0m\u001b[0;34m,\u001b[0m \u001b[0my\u001b[0m\u001b[0;34m)\u001b[0m\u001b[0;34m\u001b[0m\u001b[0;34m\u001b[0m\u001b[0m\n\u001b[0m\u001b[1;32m    392\u001b[0m \u001b[0;34m\u001b[0m\u001b[0m\n\u001b[1;32m    393\u001b[0m         \u001b[0;32mif\u001b[0m \u001b[0mself\u001b[0m\u001b[0;34m.\u001b[0m\u001b[0mcommand\u001b[0m \u001b[0;34m==\u001b[0m \u001b[0;34m'plot'\u001b[0m\u001b[0;34m:\u001b[0m\u001b[0;34m\u001b[0m\u001b[0;34m\u001b[0m\u001b[0m\n",
            "\u001b[0;32m/usr/local/lib/python3.6/dist-packages/matplotlib/axes/_base.py\u001b[0m in \u001b[0;36m_xy_from_xy\u001b[0;34m(self, x, y)\u001b[0m\n\u001b[1;32m    268\u001b[0m         \u001b[0;32mif\u001b[0m \u001b[0mx\u001b[0m\u001b[0;34m.\u001b[0m\u001b[0mshape\u001b[0m\u001b[0;34m[\u001b[0m\u001b[0;36m0\u001b[0m\u001b[0;34m]\u001b[0m \u001b[0;34m!=\u001b[0m \u001b[0my\u001b[0m\u001b[0;34m.\u001b[0m\u001b[0mshape\u001b[0m\u001b[0;34m[\u001b[0m\u001b[0;36m0\u001b[0m\u001b[0;34m]\u001b[0m\u001b[0;34m:\u001b[0m\u001b[0;34m\u001b[0m\u001b[0;34m\u001b[0m\u001b[0m\n\u001b[1;32m    269\u001b[0m             raise ValueError(\"x and y must have same first dimension, but \"\n\u001b[0;32m--> 270\u001b[0;31m                              \"have shapes {} and {}\".format(x.shape, y.shape))\n\u001b[0m\u001b[1;32m    271\u001b[0m         \u001b[0;32mif\u001b[0m \u001b[0mx\u001b[0m\u001b[0;34m.\u001b[0m\u001b[0mndim\u001b[0m \u001b[0;34m>\u001b[0m \u001b[0;36m2\u001b[0m \u001b[0;32mor\u001b[0m \u001b[0my\u001b[0m\u001b[0;34m.\u001b[0m\u001b[0mndim\u001b[0m \u001b[0;34m>\u001b[0m \u001b[0;36m2\u001b[0m\u001b[0;34m:\u001b[0m\u001b[0;34m\u001b[0m\u001b[0;34m\u001b[0m\u001b[0m\n\u001b[1;32m    272\u001b[0m             raise ValueError(\"x and y can be no greater than 2-D, but have \"\n",
            "\u001b[0;31mValueError\u001b[0m: x and y must have same first dimension, but have shapes (672,) and (154843,)"
          ]
        },
        {
          "output_type": "display_data",
          "data": {
            "image/png": "[encoded data removed]",
            "text/plain": [
              "<Figure size 432x288 with 1 Axes>"
            ]
          },
          "metadata": {
            "tags": []
          }
        }
      ]
    },
    {
      "cell_type": "code",
      "metadata": {
        "id": "XbMBoKyERPx_",
        "colab_type": "code",
        "colab": {}
      },
      "source": [
        "#pre graphing\n",
        "det_12 = []\n",
        "det_14 = []\n",
        "mer = []\n",
        "for i in range(len(X)):\n",
        "  if X[i][1] == 1:\n",
        "    det_12.append(X[i][0])\n",
        "    det_14.append(None)\n",
        "    mer.append(None)\n",
        "  elif X[i][2] == 1:\n",
        "    det_14.append(X[i][0])\n",
        "    det_12.append(None)\n",
        "    mer.append(None)\n",
        "  else:\n",
        "    mer.append(X[i][0])\n",
        "    det_14.append(None)\n",
        "    det_12.append(None)"
      ],
      "execution_count": 0,
      "outputs": []
    },
    {
      "cell_type": "code",
      "metadata": {
        "id": "X3AHKRSnRPrY",
        "colab_type": "code",
        "outputId": "514247f1-73a3-4b39-d2a4-35f30bca547b",
        "colab": {
          "base_uri": "https://localhost:8080/",
          "height": 296
        }
      },
      "source": [
        "#graphing begins here \n",
        "plt.xlabel(\"year\")\n",
        "plt.ylabel(\"price\")\n",
        "plt.scatter(det_12, Y, c=\"r\")\n",
        "plt.scatter(det_14, Y, c=\"b\")\n",
        "plt.scatter(mer, Y, c=\"g\")"
      ],
      "execution_count": 0,
      "outputs": [
        {
          "output_type": "execute_result",
          "data": {
            "text/plain": [
              "<matplotlib.collections.PathCollection at 0x7fa0ae31ae10>"
            ]
          },
          "metadata": {
            "tags": []
          },
          "execution_count": 162
        },
        {
          "output_type": "display_data",
          "data": {
            "image/png": "[encoded data removed]",
            "text/plain": [
              "<Figure size 432x288 with 1 Axes>"
            ]
          },
          "metadata": {
            "tags": []
          }
        }
      ]
    }
  ]
}